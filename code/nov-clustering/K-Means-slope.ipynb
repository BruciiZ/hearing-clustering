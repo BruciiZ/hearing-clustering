{
 "cells": [
  {
   "cell_type": "markdown",
   "metadata": {},
   "source": [
    "# K-Means for Hearing Threshold Data Clustering - Slope transformation"
   ]
  },
  {
   "cell_type": "markdown",
   "metadata": {},
   "source": [
    "`Each participant's both ears are treated as if they were two participants.`"
   ]
  },
  {
   "cell_type": "code",
   "execution_count": null,
   "metadata": {},
   "outputs": [],
   "source": [
    "import pandas as pd\n",
    "from sklearn.preprocessing import StandardScaler\n",
    "from sklearn.preprocessing import MinMaxScaler\n",
    "from sklearn.preprocessing import RobustScaler\n",
    "from sklearn.preprocessing import QuantileTransformer\n",
    "from sklearn.cluster import KMeans\n",
    "import matplotlib.pyplot as plt\n",
    "import matplotlib as mpl\n",
    "\n",
    "from sklearn.metrics import silhouette_score\n",
    "from sklearn.metrics import davies_bouldin_score\n",
    "from sklearn.metrics import calinski_harabasz_score\n",
    "\n",
    "import seaborn as sns\n",
    "import numpy as np"
   ]
  },
  {
   "cell_type": "code",
   "execution_count": null,
   "metadata": {},
   "outputs": [],
   "source": [
    "# Load the data\n",
    "file_path = \"../../data/nhanes_1520_age.csv\"\n",
    "data = pd.read_csv(file_path)\n",
    "data.set_index('SEQN', inplace=True)\n",
    "print(data.shape)\n",
    "data.head()"
   ]
  },
  {
   "cell_type": "code",
   "execution_count": null,
   "metadata": {},
   "outputs": [],
   "source": [
    "# Check the age distribution in the column 'RIDAGEYR'\n",
    "plt.figure(figsize=(10, 6))\n",
    "sns.histplot(data['RIDAGEYR'], bins=30, kde=True)\n",
    "plt.title('Age Distribution')\n",
    "plt.xlabel('Age (years)')\n",
    "plt.ylabel('Frequency')\n",
    "plt.show()"
   ]
  },
  {
   "cell_type": "code",
   "execution_count": null,
   "metadata": {},
   "outputs": [],
   "source": [
    "# Select the columns for right ear measurements\n",
    "\n",
    "right_ear_columns = ['AUXU500R', 'AUXU1K1R', 'AUXU2KR', 'AUXU3KR', 'AUXU4KR', 'AUXU6KR', 'AUXU8KR']\n",
    "right_ear_data = data[right_ear_columns]\n",
    "right_ear_data.columns = ['500 Hz', '1 kHz', '2 kHz', '3 kHz', '4 kHz', '6 kHz', '8 kHz']\n",
    "\n",
    "# Select the columns for left ear measurements\n",
    "\n",
    "left_ear_columns = ['AUXU500L', 'AUXU1K1L', 'AUXU2KL', 'AUXU3KL', 'AUXU4KL', 'AUXU6KL', 'AUXU8KL']\n",
    "left_ear_data = data[left_ear_columns]\n",
    "left_ear_data.columns = ['500 Hz', '1 kHz', '2 kHz', '3 kHz', '4 kHz', '6 kHz', '8 kHz']\n",
    "\n",
    "# Concatenate the right and left ear data\n",
    "\n",
    "ear_data = pd.concat([right_ear_data, left_ear_data], axis=0)\n",
    "\n",
    "# Change the column names to be more descriptive\n",
    "\n",
    "ear_data"
   ]
  },
  {
   "cell_type": "code",
   "execution_count": null,
   "metadata": {},
   "outputs": [],
   "source": [
    "# Process missing values\n",
    "cleaned_ear_data = ear_data.replace({888: np.nan, 666: np.nan, '.': np.nan}, inplace=False)\n",
    "cleaned_ear_data = cleaned_ear_data.dropna(inplace=False)\n",
    "# cleaned_ear_data.reset_index(drop=True, inplace=True)\n",
    "\n",
    "cleaned_ear_data"
   ]
  },
  {
   "cell_type": "code",
   "execution_count": null,
   "metadata": {},
   "outputs": [],
   "source": [
    "# Define frequencies and their differences\n",
    "frequencies = ['500 Hz', '1 kHz', '2 kHz', '3 kHz', '4 kHz', '6 kHz', '8 kHz']\n",
    "freq_differences = [500, 1000, 1000, 1000, 2000, 2000]  # Differences between frequencies\n",
    "local_slope_data = cleaned_ear_data.copy()\n",
    "global_slope_data = cleaned_ear_data.copy()\n",
    "\n",
    "# Compute the subsequent columns\n",
    "for i in range(1, len(frequencies)):\n",
    "    local_slope_data[frequencies[i]] = (cleaned_ear_data[frequencies[i]] - cleaned_ear_data[frequencies[i - 1]]) / freq_differences[i - 1]\n",
    "    global_slope_data[frequencies[i]] = (cleaned_ear_data[frequencies[i]] - cleaned_ear_data[frequencies[0]]) / sum(freq_differences[:i])"
   ]
  },
  {
   "cell_type": "markdown",
   "metadata": {},
   "source": [
    "# K-Means with local slope data"
   ]
  },
  {
   "cell_type": "code",
   "execution_count": null,
   "metadata": {},
   "outputs": [],
   "source": [
    "# Fit the K-Means algorithm with n clusters = 2, 3, 4\n",
    "\n",
    "fig, ax = plt.subplots(2, 2, figsize=(14, 14))\n",
    "\n",
    "for i in range(2, 5):\n",
    "    # Initialize the KMeans object\n",
    "    kmeans = KMeans(n_clusters=i, random_state=42, n_init='auto')\n",
    "    kmeans.fit(local_slope_data)\n",
    "\n",
    "    # Calculate the actual centroids using the raw data\n",
    "    centroids = cleaned_ear_data.groupby(kmeans.labels_).mean()\n",
    "    centroids_df = pd.DataFrame(centroids, columns=cleaned_ear_data.columns)\n",
    "\n",
    "    # Plot the line plot\n",
    "    row = (i - 2) // 2\n",
    "    col = (i - 2) % 2\n",
    "    for cluster_id in range(i):\n",
    "        ax[row, col].plot(\n",
    "            centroids_df.columns, \n",
    "            centroids_df.iloc[cluster_id], \n",
    "            marker='o', \n",
    "            label=f'Cluster {cluster_id + 1}'\n",
    "        )\n",
    "    ax[row, col].set_title(f'KMeans with local slope data and {i} clusters')\n",
    "    ax[row, col].set_xlabel('Frequency (Hz)')\n",
    "    ax[row, col].set_ylabel('Slope')\n",
    "    ax[row, col].invert_yaxis()\n",
    "    ax[row, col].legend()\n",
    "\n",
    "    # Annotate the Silhouette, Davies Bouldin, and Calinski Harabasz scores\n",
    "    silhouette = silhouette_score(cleaned_ear_data, kmeans.labels_)\n",
    "    davies_bouldin = davies_bouldin_score(cleaned_ear_data, kmeans.labels_)\n",
    "    calinski_harabasz = calinski_harabasz_score(cleaned_ear_data, kmeans.labels_)\n",
    "\n",
    "    ax[row, col].annotate(f'Silhouette Score: {silhouette:.3f}', \n",
    "                          xy=(0.5, 0.05), xycoords='axes fraction', ha='center', fontsize=12)\n",
    "    ax[row, col].annotate(f'Davies Bouldin Score: {davies_bouldin:.3f}',\n",
    "                            xy=(0.5, 0.10), xycoords='axes fraction', ha='center', fontsize=12)\n",
    "    ax[row, col].annotate(f'Calinski Harabasz Score: {calinski_harabasz:.3f}',\n",
    "                            xy=(0.5, 0.15), xycoords='axes fraction', ha='center', fontsize=12)\n",
    "    \n",
    "    # Print out the Silhouette, Davies Bouldin, and Calinski Harabasz scores\n",
    "    print(f'KMeans with {i} clusters')\n",
    "    print(f'Silhouette Score: {silhouette:.3f}')\n",
    "    print(f'Davies Bouldin Score: {davies_bouldin:.3f}')\n",
    "    print(f'Calinski Harabasz Score: {calinski_harabasz:.3f}')\n",
    "    print('-' * 50)\n",
    "\n",
    "plt.tight_layout()\n",
    "plt.show()"
   ]
  },
  {
   "cell_type": "markdown",
   "metadata": {},
   "source": [
    "# K-Means with global slope data"
   ]
  },
  {
   "cell_type": "code",
   "execution_count": null,
   "metadata": {},
   "outputs": [],
   "source": [
    "# Fit the K-Means algorithm with n clusters = 2, 3, 4\n",
    "\n",
    "fig, ax = plt.subplots(2, 2, figsize=(14, 14))\n",
    "\n",
    "for i in range(2, 5):\n",
    "    # Initialize the KMeans object\n",
    "    kmeans = KMeans(n_clusters=i, random_state=42, n_init='auto')\n",
    "    kmeans.fit(global_slope_data)\n",
    "\n",
    "    # Calculate the actual centroids using the raw data\n",
    "    centroids = cleaned_ear_data.groupby(kmeans.labels_).mean()\n",
    "    centroids_df = pd.DataFrame(centroids, columns=cleaned_ear_data.columns)\n",
    "\n",
    "    # Plot the line plot\n",
    "    row = (i - 2) // 2\n",
    "    col = (i - 2) % 2\n",
    "    for cluster_id in range(i):\n",
    "        ax[row, col].plot(\n",
    "            centroids_df.columns, \n",
    "            centroids_df.iloc[cluster_id], \n",
    "            marker='o', \n",
    "            label=f'Cluster {cluster_id + 1}'\n",
    "        )\n",
    "    ax[row, col].set_title(f'KMeans with global slope data and {i} clusters')\n",
    "    ax[row, col].set_xlabel('Frequency (Hz)')\n",
    "    ax[row, col].set_ylabel('Slope')\n",
    "    ax[row, col].invert_yaxis()\n",
    "    ax[row, col].legend()\n",
    "\n",
    "    # Annotate the Silhouette, Davies Bouldin, and Calinski Harabasz scores\n",
    "    silhouette = silhouette_score(cleaned_ear_data, kmeans.labels_)\n",
    "    davies_bouldin = davies_bouldin_score(cleaned_ear_data, kmeans.labels_)\n",
    "    calinski_harabasz = calinski_harabasz_score(cleaned_ear_data, kmeans.labels_)\n",
    "\n",
    "    ax[row, col].annotate(f'Silhouette Score: {silhouette:.3f}', \n",
    "                          xy=(0.5, 0.05), xycoords='axes fraction', ha='center', fontsize=12)\n",
    "    ax[row, col].annotate(f'Davies Bouldin Score: {davies_bouldin:.3f}',\n",
    "                            xy=(0.5, 0.10), xycoords='axes fraction', ha='center', fontsize=12)\n",
    "    ax[row, col].annotate(f'Calinski Harabasz Score: {calinski_harabasz:.3f}',\n",
    "                            xy=(0.5, 0.15), xycoords='axes fraction', ha='center', fontsize=12)\n",
    "    \n",
    "    # Print out the Silhouette, Davies Bouldin, and Calinski Harabasz scores\n",
    "    print(f'KMeans with {i} clusters')\n",
    "    print(f'Silhouette Score: {silhouette:.3f}')\n",
    "    print(f'Davies Bouldin Score: {davies_bouldin:.3f}')\n",
    "    print(f'Calinski Harabasz Score: {calinski_harabasz:.3f}')\n",
    "    print('-' * 50)\n",
    "\n",
    "plt.tight_layout()\n",
    "plt.show()"
   ]
  }
 ],
 "metadata": {
  "kernelspec": {
   "display_name": "base",
   "language": "python",
   "name": "python3"
  },
  "language_info": {
   "codemirror_mode": {
    "name": "ipython",
    "version": 3
   },
   "file_extension": ".py",
   "mimetype": "text/x-python",
   "name": "python",
   "nbconvert_exporter": "python",
   "pygments_lexer": "ipython3",
   "version": "3.11.9"
  }
 },
 "nbformat": 4,
 "nbformat_minor": 4
}
